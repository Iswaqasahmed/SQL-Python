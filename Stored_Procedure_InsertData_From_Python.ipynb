{
 "cells": [
  {
   "cell_type": "code",
   "execution_count": null,
   "metadata": {},
   "outputs": [],
   "source": []
  },
  {
   "cell_type": "code",
   "execution_count": null,
   "metadata": {},
   "outputs": [],
   "source": []
  },
  {
   "cell_type": "code",
   "execution_count": 12,
   "metadata": {},
   "outputs": [
    {
     "name": "stdout",
     "output_type": "stream",
     "text": [
      "[INFO] Successfully Imported \n"
     ]
    }
   ],
   "source": [
    "class StoreProcedure:\n",
    "    def __init__(self):\n",
    "        pass\n",
    "        \n",
    "    def _connection(self):\n",
    "        import pyodbc\n",
    "        try:\n",
    "#             connection with local database \n",
    "            conn = pyodbc.connect('Driver={SQL Server};'     # first go to ODBC check (system ) Data Source check SQL Server is aviliabe \n",
    "                      'Server=WAQSA-AHMED\\SQLEXPRESS;'  # server Name               \n",
    "                      'Database=master;'    # Schema Name\n",
    "                      'Trusted_Connection=yes;')         \n",
    "#             set cursor \n",
    "            cursor = conn.cursor()\n",
    "            \n",
    "            _Fname = input(\"Enter First Name\")\n",
    "            _Lname = input(\"Enter Last Name\")\n",
    "            \n",
    "            \n",
    "            # Prepare the stored procedure execution script and parameter values\n",
    "            storedProc = \"Exec [dbo].[SPConnectionWithPython] @Fname=?,@Lname=?\"\n",
    "\n",
    "            # Values that inserted into table\n",
    "            params = (_Fname,_Lname)\n",
    "            \n",
    "            # Execute Stored Procedure With Parameters\n",
    "            cursor.execute( storedProc, params )\n",
    "\n",
    "            #             cursor.execute(\"exec [dbo].[SPConnectionWithPython] @Fname=?, @Lname =? \")\n",
    "            conn.commit()\n",
    "            \n",
    "           \n",
    "            # Close the cursor and delete it\n",
    "            cursor.close()\n",
    "            del cursor\n",
    "\n",
    "        except Exception as ex:\n",
    "            print(ex)\n",
    "            \n",
    "#         finally:\n",
    "#             print(\"[INFO] Working Fine...... \")"
   ]
  },
  {
   "cell_type": "code",
   "execution_count": 13,
   "metadata": {},
   "outputs": [
    {
     "name": "stdout",
     "output_type": "stream",
     "text": [
      "Enter First Namemuhammad\n",
      "Enter Last Nameismail\n"
     ]
    }
   ],
   "source": [
    "s = StoreProcedure()\n",
    "s._connection()"
   ]
  },
  {
   "cell_type": "code",
   "execution_count": 24,
   "metadata": {},
   "outputs": [],
   "source": []
  },
  {
   "cell_type": "code",
   "execution_count": 2,
   "metadata": {},
   "outputs": [],
   "source": [
    "# class StoreProcedure:\n",
    "#     def __init__(self):\n",
    "#         pass\n",
    "    \n",
    "#     try:\n",
    "#         import pyodbc\n",
    "#     except Exception as ex:\n",
    "#         print(ex)\n",
    "        \n",
    "#     finally:\n",
    "#         print(\"[INFO] Successfully Imported \")\n",
    "        \n",
    "        \n",
    "#     def _connection(self):\n",
    "#         try:\n",
    "# #             connection with local database \n",
    "#             conn = pyodbc.connect('Driver={SQL Server};'     # first go to ODBC check (system ) Data Source check SQL Server is aviliabe \n",
    "#                       'Server=WAQSA-AHMED\\SQLEXPRESS;'  # server Name               \n",
    "#                       'Database=master;'    # Schema Name\n",
    "#                       'Trusted_Connection=yes;')   \n",
    "    \n",
    "# #             set cursor \n",
    "#             cursor = conn.cursor()\n",
    "            \n",
    "# #             _id = d.columns[0]\n",
    "#             _Fname = input(\"Enter First Name\")\n",
    "#             _Lname = input(\"Enter Last Name\")\n",
    "#             # Prepare the stored procedure execution script and parameter values\n",
    "#             storedProc = r'exec [dbo].[SPConnectionWithPython] @ID =' + _id +',@Fname =' +_Fname+',@Lname='+_Lname\n",
    "# #             params = (\"And\", 10)\n",
    "\n",
    "# #             cursor.execute('select * from dbo.Connection')\n",
    "\n",
    "\n",
    "# #             params = (_id,_Fname,_Lname)\n",
    "            \n",
    "#             # Execute Stored Procedure With Parameters\n",
    "#             cursor.execute( storedProc )\n",
    "# #             cursor.execute(\"exec [dbo].[SPConnectionWithPython] @ID = '1',@Fname='waqas',@Lname='ahmed'\")\n",
    "#             conn.commit()\n",
    "            \n",
    "# #             cursor.execute( sql, params )\n",
    "# #             rc = cursor.fetchval()\n",
    "           \n",
    "#             #row = cursor.fetchone()\n",
    "#             #row = cursor.fetchone()\n",
    "# #             while row:\n",
    "# #                 # Print the row\n",
    "# #                 print(str(row[0]) + \" : \" + str(row[1]) )\n",
    "# #                 row = cursor.fetchone()    \n",
    "     \n",
    "           \n",
    "#             # Close the cursor and delete it\n",
    "#             cursor.close()\n",
    "#             del cursor\n",
    "\n",
    "#             # Close the database connection\n",
    "# #             //cnxn.close()\n",
    "            \n",
    "#         except Exception as ex:\n",
    "#             print(ex)\n",
    "            \n",
    "# #         finally:\n",
    "# #             print(\"[INFO] Working Fine...... \")"
   ]
  },
  {
   "cell_type": "code",
   "execution_count": 1,
   "metadata": {},
   "outputs": [],
   "source": [
    "# import pyodbc \n",
    "\n",
    "\n",
    "# conn = pyodbc.connect('Driver={SQL Server};'     # first go to ODBC check (system ) Data Source check SQL Server is aviliabe \n",
    "#                       'Server=WAQSA-AHMED\\SQLEXPRESS;'  # server Name               \n",
    "#                       'Database=master;'    # Schema Name\n",
    "#                       'Trusted_Connection=yes;')         \n",
    "\n",
    "# cursor = conn.cursor()"
   ]
  },
  {
   "cell_type": "code",
   "execution_count": null,
   "metadata": {},
   "outputs": [],
   "source": []
  }
 ],
 "metadata": {
  "kernelspec": {
   "display_name": "Python 3",
   "language": "python",
   "name": "python3"
  },
  "language_info": {
   "codemirror_mode": {
    "name": "ipython",
    "version": 3
   },
   "file_extension": ".py",
   "mimetype": "text/x-python",
   "name": "python",
   "nbconvert_exporter": "python",
   "pygments_lexer": "ipython3",
   "version": "3.7.3"
  }
 },
 "nbformat": 4,
 "nbformat_minor": 2
}